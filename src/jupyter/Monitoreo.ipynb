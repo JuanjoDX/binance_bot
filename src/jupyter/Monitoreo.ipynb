{
 "cells": [
  {
   "cell_type": "code",
   "execution_count": null,
   "id": "e0f6f54f",
   "metadata": {},
   "outputs": [],
   "source": [
    "from binance import Client\n",
    "from datetime import datetime\n",
    "import time\n",
    "\n",
    "apikey = 'o4xp0nX8Nr3RsQIAQDBs7ZZivwpoLHPZsDQU48dmWX8heBKpSgPOS0M9NZwHHbEP'\n",
    "secret = 'OwjJSwLt0szX7qq62Xqd7evsc345eCLCTrYIVTdIND4HORYJ4DDz7lmGnDGCMiwq'\n",
    "client = Client(apikey, secret)"
   ]
  },
  {
   "cell_type": "code",
   "execution_count": null,
   "id": "6dae6577",
   "metadata": {},
   "outputs": [],
   "source": [
    "res = client.futures_get_all_orders()\n",
    "status = \"FILLED\"\n",
    "\n",
    "# Buscar el diccionario con el símbolo deseado\n",
    "target_status = None\n",
    "for position in res[::-1]:\n",
    "    if position['status'] == status:\n",
    "        target_status = position\n",
    "        break"
   ]
  },
  {
   "cell_type": "code",
   "execution_count": null,
   "id": "02e616c6",
   "metadata": {},
   "outputs": [],
   "source": [
    "while True:\n",
    "    try:\n",
    "        res = client.futures_position_information()\n",
    "\n",
    "    except BinanceAPIException as e:\n",
    "        print(\"Error:\", e)\n",
    "        # Espera 5 segundos antes de intentar nuevamente\n",
    "        time.sleep(5)\n",
    "        \n",
    "      \n",
    "    target_coin = {'symbol' : 'abc'}\n",
    "    for position in res[::-1]:\n",
    "        if float(position['positionAmt']) != 0:\n",
    "            target_coin = position\n",
    "            print(target_coin)\n",
    "            break"
   ]
  },
  {
   "cell_type": "code",
   "execution_count": null,
   "id": "f3a19d8a",
   "metadata": {},
   "outputs": [],
   "source": [
    "res2 = client.futures_get_all_orders()\n",
    "status = \"NEW\"\n",
    "\n",
    "# Buscar el diccionario con el símbolo deseado\n",
    "target_status2 = None\n",
    "for position in res2[::-1]:\n",
    "    if position['status'] == status:\n",
    "        target_status2 = position\n",
    "        break"
   ]
  },
  {
   "cell_type": "code",
   "execution_count": null,
   "id": "73a2ad09",
   "metadata": {},
   "outputs": [],
   "source": [
    "target_status2"
   ]
  },
  {
   "cell_type": "code",
   "execution_count": null,
   "id": "129ea528",
   "metadata": {},
   "outputs": [],
   "source": [
    "aux = None\n",
    "if target_status[\"side\"] == \"SELL\":\n",
    "    aux = \"SHORT\"\n",
    "else:\n",
    "    aux = \"LONG\""
   ]
  },
  {
   "cell_type": "code",
   "execution_count": null,
   "id": "a79c1ed0",
   "metadata": {},
   "outputs": [],
   "source": [
    "blue_background = \"\\033[44m\"\n",
    "green_background = \"\\033[42m\"\n",
    "red_background = \"\\033[41m\"\n",
    "cyan_background = \"\\033[46m\"\n",
    "reset_style = \"\\033[0m\""
   ]
  },
  {
   "cell_type": "code",
   "execution_count": null,
   "id": "5c3b8fd3",
   "metadata": {},
   "outputs": [],
   "source": [
    "target_coin[\"symbol\"]"
   ]
  },
  {
   "cell_type": "code",
   "execution_count": null,
   "id": "07c89138",
   "metadata": {},
   "outputs": [],
   "source": [
    "while True:\n",
    "    \n",
    "    if target_coin[\"symbol\"] == target_status[\"symbol\"]:\n",
    "        print(\"Moneda:\", target_status[\"symbol\"])\n",
    "        print(\"Tipo:\" , aux)\n",
    "\n",
    "        print(\"Precio Entrada:\" , f\"{blue_background}{target_status['avgPrice']}{reset_style}\")\n",
    "\n",
    "        res = client.futures_symbol_ticker(symbol = \"1000shibusdt\")\n",
    "        fecha = datetime.fromtimestamp(res[\"time\"]/1000).strftime(\"%d/%m/%Y %H:%M:%S\")\n",
    "        precio = res[\"price\"]\n",
    "        simbolo = res[\"symbol\"]\n",
    "\n",
    "        if precio < target_status['avgPrice']:\n",
    "            print(\"Precio Actual: \", f\"{red_background}{precio}{reset_style}\")\n",
    "        else:\n",
    "            print(\"Precio Actual: \", f\"{green_background}{precio}{reset_style}\")\n",
    "        \n",
    "        print(\"Take Profit:   \" ,f\"{cyan_background}{target_status2['price']}{reset_style}\")\n",
    "        print(fecha)\n",
    "        print(\"__________________________\")\n",
    "        time.sleep(30)"
   ]
  }
 ],
 "metadata": {
  "kernelspec": {
   "display_name": "Python 3 (ipykernel)",
   "language": "python",
   "name": "python3"
  },
  "language_info": {
   "codemirror_mode": {
    "name": "ipython",
    "version": 3
   },
   "file_extension": ".py",
   "mimetype": "text/x-python",
   "name": "python",
   "nbconvert_exporter": "python",
   "pygments_lexer": "ipython3",
   "version": "3.9.7"
  }
 },
 "nbformat": 4,
 "nbformat_minor": 5
}
