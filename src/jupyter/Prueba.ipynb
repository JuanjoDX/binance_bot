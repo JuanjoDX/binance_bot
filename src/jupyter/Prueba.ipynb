{
 "cells": [
  {
   "cell_type": "code",
   "execution_count": 82,
   "id": "060c7acf",
   "metadata": {},
   "outputs": [],
   "source": [
    "from binance import Client\n",
    "import time\n",
    "from datetime import datetime"
   ]
  },
  {
   "cell_type": "code",
   "execution_count": 83,
   "id": "1a72483e",
   "metadata": {},
   "outputs": [],
   "source": [
    "apikey = 'o4xp0nX8Nr3RsQIAQDBs7ZZivwpoLHPZsDQU48dmWX8heBKpSgPOS0M9NZwHHbEP'\n",
    "secret = 'OwjJSwLt0szX7qq62Xqd7evsc345eCLCTrYIVTdIND4HORYJ4DDz7lmGnDGCMiwq'\n",
    "client = Client(apikey, secret)"
   ]
  },
  {
   "cell_type": "code",
   "execution_count": 58,
   "id": "5e0bcb56",
   "metadata": {},
   "outputs": [],
   "source": [
    "res = client.futures_order_book(symbol = \"1000shibusdt\",limit = 50)"
   ]
  },
  {
   "cell_type": "code",
   "execution_count": 87,
   "id": "187f8b5f",
   "metadata": {},
   "outputs": [
    {
     "data": {
      "text/plain": [
       "[{'symbol': '1000SHIBUSDT',\n",
       "  'positionAmt': '1123108',\n",
       "  'entryPrice': '0.0106195',\n",
       "  'markPrice': '0.01044968',\n",
       "  'unRealizedProfit': '-190.72620056',\n",
       "  'liquidationPrice': '0.00968465',\n",
       "  'leverage': '20',\n",
       "  'maxNotionalValue': '600000',\n",
       "  'marginType': 'cross',\n",
       "  'isolatedMargin': '0.00000000',\n",
       "  'isAutoAddMargin': 'false',\n",
       "  'positionSide': 'BOTH',\n",
       "  'notional': '11736.11920544',\n",
       "  'isolatedWallet': '0',\n",
       "  'updateTime': 1691953040992}]"
      ]
     },
     "execution_count": 87,
     "metadata": {},
     "output_type": "execute_result"
    }
   ],
   "source": [
    "client.futures_position_information(symbol = \"1000shibusdt\")"
   ]
  },
  {
   "cell_type": "code",
   "execution_count": 67,
   "id": "21c5c000",
   "metadata": {},
   "outputs": [
    {
     "name": "stdout",
     "output_type": "stream",
     "text": [
      "Precio Medio LONG: 0.01069\n",
      "Diferencia: 0.000023\n"
     ]
    }
   ],
   "source": [
    "aux0 = []\n",
    "aux1 = []\n",
    "\n",
    "for i in res[\"bids\"]:\n",
    "    precio = float(i[0])\n",
    "    cantidad = int(i[1])\n",
    "    aux0.append(precio*cantidad)\n",
    "    aux1.append(cantidad)\n",
    "\n",
    "primero = float(res[\"bids\"][0][0])\n",
    "mean_price = round(sum(aux0)/sum(aux1),6)\n",
    "\n",
    "print(\"Precio Medio LONG:\", mean_price)\n",
    "print(\"Diferencia:\", format(round(primero-mean_price,6),\".6f\"))"
   ]
  },
  {
   "cell_type": "code",
   "execution_count": 68,
   "id": "19b89f36",
   "metadata": {},
   "outputs": [
    {
     "name": "stdout",
     "output_type": "stream",
     "text": [
      "Precio Medio SHORT: 0.010738\n",
      "Diferencia: 0.000024\n"
     ]
    }
   ],
   "source": [
    "aux0 = []\n",
    "aux1 = []\n",
    "\n",
    "for i in res[\"asks\"]:\n",
    "    precio = float(i[0])\n",
    "    cantidad = int(i[1])\n",
    "    aux0.append(precio*cantidad)\n",
    "    aux1.append(cantidad)\n",
    "\n",
    "primero = float(res[\"asks\"][0][0])\n",
    "mean_price = round(sum(aux0)/sum(aux1),6)\n",
    "\n",
    "print(\"Precio Medio SHORT:\", mean_price)\n",
    "print(\"Diferencia:\", format(round(mean_price-primero,6),\".6f\"))"
   ]
  },
  {
   "cell_type": "code",
   "execution_count": 81,
   "id": "9da6f0ed",
   "metadata": {},
   "outputs": [
    {
     "name": "stdout",
     "output_type": "stream",
     "text": [
      "13/08/2023 14:41:46\n",
      "\n",
      "Precio Medio LONG: 0.010453\n",
      "Diferencia: 0.000006\n",
      "-----------------------------------\n",
      "Precio Medio SHORT: 0.010466\n",
      "Diferencia: 0.000006\n",
      "____________________________________\n"
     ]
    },
    {
     "ename": "KeyboardInterrupt",
     "evalue": "",
     "output_type": "error",
     "traceback": [
      "\u001b[1;31m---------------------------------------------------------------------------\u001b[0m",
      "\u001b[1;31mKeyboardInterrupt\u001b[0m                         Traceback (most recent call last)",
      "\u001b[1;32m~\\AppData\\Local\\Temp/ipykernel_3996/3136062465.py\u001b[0m in \u001b[0;36m<module>\u001b[1;34m\u001b[0m\n\u001b[0;32m     37\u001b[0m     \u001b[0mprint\u001b[0m\u001b[1;33m(\u001b[0m\u001b[1;34m\"Diferencia:\"\u001b[0m\u001b[1;33m,\u001b[0m \u001b[0mformat\u001b[0m\u001b[1;33m(\u001b[0m\u001b[0mround\u001b[0m\u001b[1;33m(\u001b[0m\u001b[0mmean_price\u001b[0m\u001b[1;33m-\u001b[0m\u001b[0mprimero\u001b[0m\u001b[1;33m,\u001b[0m\u001b[1;36m6\u001b[0m\u001b[1;33m)\u001b[0m\u001b[1;33m,\u001b[0m\u001b[1;34m\".6f\"\u001b[0m\u001b[1;33m)\u001b[0m\u001b[1;33m)\u001b[0m\u001b[1;33m\u001b[0m\u001b[1;33m\u001b[0m\u001b[0m\n\u001b[0;32m     38\u001b[0m     \u001b[0mprint\u001b[0m\u001b[1;33m(\u001b[0m\u001b[1;34m\"____________________________________\"\u001b[0m\u001b[1;33m)\u001b[0m\u001b[1;33m\u001b[0m\u001b[1;33m\u001b[0m\u001b[0m\n\u001b[1;32m---> 39\u001b[1;33m     \u001b[0mtime\u001b[0m\u001b[1;33m.\u001b[0m\u001b[0msleep\u001b[0m\u001b[1;33m(\u001b[0m\u001b[1;36m10\u001b[0m\u001b[1;33m)\u001b[0m\u001b[1;33m\u001b[0m\u001b[1;33m\u001b[0m\u001b[0m\n\u001b[0m",
      "\u001b[1;31mKeyboardInterrupt\u001b[0m: "
     ]
    }
   ],
   "source": [
    "while True:\n",
    "    res = client.futures_order_book(symbol = \"1000shibusdt\",limit = 10)\n",
    "    \n",
    "    \n",
    "    fecha = datetime.now().strftime(\"%d/%m/%Y %H:%M:%S\")\n",
    "    print(fecha)\n",
    "    print(\"\")\n",
    "    aux0 = []\n",
    "    aux1 = []\n",
    "    \n",
    "    for i in res[\"bids\"]:\n",
    "        precio = float(i[0])\n",
    "        cantidad = int(i[1])\n",
    "        aux0.append(precio*cantidad)\n",
    "        aux1.append(cantidad)\n",
    "\n",
    "    primero = float(res[\"bids\"][0][0])\n",
    "    mean_price = round(sum(aux0)/sum(aux1),6)\n",
    "\n",
    "    print(\"Precio Medio LONG:\", mean_price)\n",
    "    print(\"Diferencia:\", format(round(primero-mean_price,6),\".6f\"))\n",
    "    print(\"-----------------------------------\")\n",
    "    \n",
    "    aux0 = []\n",
    "    aux1 = []\n",
    "\n",
    "    for i in res[\"asks\"]:\n",
    "        precio = float(i[0])\n",
    "        cantidad = int(i[1])\n",
    "        aux0.append(precio*cantidad)\n",
    "        aux1.append(cantidad)\n",
    "\n",
    "    primero = float(res[\"asks\"][0][0])\n",
    "    mean_price = round(sum(aux0)/sum(aux1),6)\n",
    "\n",
    "    print(\"Precio Medio SHORT:\", mean_price)\n",
    "    print(\"Diferencia:\", format(round(mean_price-primero,6),\".6f\"))\n",
    "    print(\"____________________________________\")\n",
    "    time.sleep(10)"
   ]
  }
 ],
 "metadata": {
  "kernelspec": {
   "display_name": "Python 3 (ipykernel)",
   "language": "python",
   "name": "python3"
  },
  "language_info": {
   "codemirror_mode": {
    "name": "ipython",
    "version": 3
   },
   "file_extension": ".py",
   "mimetype": "text/x-python",
   "name": "python",
   "nbconvert_exporter": "python",
   "pygments_lexer": "ipython3",
   "version": "3.9.7"
  }
 },
 "nbformat": 4,
 "nbformat_minor": 5
}
