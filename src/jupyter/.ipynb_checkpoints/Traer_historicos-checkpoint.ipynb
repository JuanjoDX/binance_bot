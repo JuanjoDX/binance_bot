{
 "cells": [
  {
   "cell_type": "markdown",
   "id": "1abc4417",
   "metadata": {},
   "source": [
    "### Importar Librerias "
   ]
  },
  {
   "cell_type": "code",
   "execution_count": null,
   "id": "d79a1b40",
   "metadata": {},
   "outputs": [],
   "source": [
    "from binance import Client, ThreadedWebsocketManager, ThreadedDepthCacheManager\n",
    "import pandas as pd\n",
    "from datetime import datetime, timedelta"
   ]
  },
  {
   "cell_type": "markdown",
   "id": "b0bfd4c0",
   "metadata": {},
   "source": [
    "### API KEYS y Cliente"
   ]
  },
  {
   "cell_type": "code",
   "execution_count": null,
   "id": "271ce3fc",
   "metadata": {},
   "outputs": [],
   "source": [
    "apikey = 'o4xp0nX8Nr3RsQIAQDBs7ZZivwpoLHPZsDQU48dmWX8heBKpSgPOS0M9NZwHHbEP'\n",
    "secret = 'OwjJSwLt0szX7qq62Xqd7evsc345eCLCTrYIVTdIND4HORYJ4DDz7lmGnDGCMiwq'\n",
    "\n",
    "client = Client(apikey, secret)"
   ]
  },
  {
   "cell_type": "markdown",
   "id": "118d7500",
   "metadata": {},
   "source": [
    "### Hora Servidor y hora inicio"
   ]
  },
  {
   "cell_type": "code",
   "execution_count": null,
   "id": "58c7a44d",
   "metadata": {},
   "outputs": [],
   "source": [
    "res = client.get_exchange_info()\n",
    "hora_ser = pd.to_datetime(res[\"serverTime\"]/1000, unit='s')\n",
    "hora_inicio = hora_ser-timedelta(minutes = 5000)"
   ]
  },
  {
   "cell_type": "markdown",
   "id": "e053b762",
   "metadata": {},
   "source": [
    "### Temporalidad"
   ]
  },
  {
   "cell_type": "code",
   "execution_count": null,
   "id": "2aff3428",
   "metadata": {},
   "outputs": [],
   "source": [
    "t = str(input(\"Ingrese Temporalidad (1m, 3m, 5m, 15m): \"))"
   ]
  },
  {
   "cell_type": "markdown",
   "id": "325b08b7",
   "metadata": {},
   "source": [
    "### Funcion historico "
   ]
  },
  {
   "cell_type": "code",
   "execution_count": null,
   "id": "e58a04a6",
   "metadata": {},
   "outputs": [],
   "source": [
    "def historico(sym, t, inicio, fin):\n",
    "    historical = client.futures_historical_klines(symbol=sym,\n",
    "                                                  interval=t,\n",
    "                                                  start_str=str(inicio),\n",
    "                                                  end_str=str(fin))\n",
    "\n",
    "    hist_df = pd.DataFrame(historical)\n",
    "    hist_df.columns = ['Open Time', 'Open', 'High', 'Low', 'Close', 'Volume', 'Close Time', 'Quote Asset Volume', \n",
    "                        'Number of Trades', 'TB Base Volume', 'TB Quote Volume', 'Ignore']\n",
    "\n",
    "    hist_df['Open Time'] = pd.to_datetime(hist_df['Open Time']/1000, unit='s')\n",
    "    hist_df['Close Time'] = pd.to_datetime(hist_df['Close Time']/1000, unit='s')\n",
    "\n",
    "    numeric_columns = ['Open', 'High', 'Low', 'Close', 'Volume', 'Quote Asset Volume', 'TB Base Volume', 'TB Quote Volume']\n",
    "    hist_df[numeric_columns] = hist_df[numeric_columns].apply(pd.to_numeric, axis=1)\n",
    "    \n",
    "    hist_df[\"Open Time\"] = hist_df[\"Open Time\"] - timedelta(hours = 5)\n",
    "    hist_df[\"Close Time\"] = hist_df[\"Close Time\"] - timedelta(hours = 5)\n",
    "    hist_df.to_csv(\"C:/Users/Usuario/Proyectos/Bot Trading/data/data_shibusdt_\" + t + \".csv\",index = False)"
   ]
  }
 ],
 "metadata": {
  "kernelspec": {
   "display_name": "Python 3 (ipykernel)",
   "language": "python",
   "name": "python3"
  },
  "language_info": {
   "codemirror_mode": {
    "name": "ipython",
    "version": 3
   },
   "file_extension": ".py",
   "mimetype": "text/x-python",
   "name": "python",
   "nbconvert_exporter": "python",
   "pygments_lexer": "ipython3",
   "version": "3.9.7"
  }
 },
 "nbformat": 4,
 "nbformat_minor": 5
}
