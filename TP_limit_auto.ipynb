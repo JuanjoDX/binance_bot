{
 "cells": [
  {
   "cell_type": "code",
   "execution_count": 294,
   "id": "0d51e13f",
   "metadata": {},
   "outputs": [],
   "source": [
    "from binance import Client\n",
    "\n",
    "apikey = 'o4xp0nX8Nr3RsQIAQDBs7ZZivwpoLHPZsDQU48dmWX8heBKpSgPOS0M9NZwHHbEP'\n",
    "secret = 'OwjJSwLt0szX7qq62Xqd7evsc345eCLCTrYIVTdIND4HORYJ4DDz7lmGnDGCMiwq'"
   ]
  },
  {
   "cell_type": "code",
   "execution_count": 295,
   "id": "933092ca",
   "metadata": {},
   "outputs": [],
   "source": [
    "client = Client(apikey, secret)"
   ]
  },
  {
   "cell_type": "code",
   "execution_count": 296,
   "id": "b2051c6b",
   "metadata": {},
   "outputs": [],
   "source": [
    "res = client.futures_get_all_orders()\n",
    "status = \"FILLED\"\n",
    "\n",
    "# Buscar el diccionario con el símbolo deseado\n",
    "target_status = None\n",
    "for position in res[::-1]:\n",
    "    if position['status'] == status:\n",
    "        target_status = position\n",
    "        break"
   ]
  },
  {
   "cell_type": "code",
   "execution_count": 297,
   "id": "f7e806b7",
   "metadata": {},
   "outputs": [],
   "source": [
    "aux = None\n",
    "decimas = len(target_status[\"price\"].split(\".\")[1])\n",
    "if target_status[\"side\"] == \"SELL\":\n",
    "    aux = \"BUY\"\n",
    "    precio_salida = str(round(float(target_status[\"avgPrice\"])*0.993,decimas))\n",
    "else:\n",
    "    aux = \"SELL\"\n",
    "    precio_salida = str(round(float(target_status[\"avgPrice\"])*1.014,decimas))"
   ]
  },
  {
   "cell_type": "markdown",
   "id": "b43159c2",
   "metadata": {},
   "source": [
    "### Crear Orden TP"
   ]
  },
  {
   "cell_type": "code",
   "execution_count": 298,
   "id": "c489546b",
   "metadata": {},
   "outputs": [],
   "source": [
    "orden_salida = client.futures_create_order(symbol = target_status[\"symbol\"],\n",
    "                            side = aux,\n",
    "                            price = precio_salida,\n",
    "                            quantity = target_status[\"executedQty\"],\n",
    "                            type = 'LIMIT',\n",
    "                            timeinforce = 'GTC',\n",
    "                            reduceOnly = True)"
   ]
  },
  {
   "cell_type": "code",
   "execution_count": 299,
   "id": "e68aa2e0",
   "metadata": {},
   "outputs": [
    {
     "name": "stdout",
     "output_type": "stream",
     "text": [
      "La ganancia es aproximandamente: 33.46\n"
     ]
    }
   ],
   "source": [
    "total_salida = float(orden_salida[\"price\"])*float(orden_salida[\"origQty\"])\n",
    "total_entrada = float(target_status[\"cumQuote\"])\n",
    "ganancia = total_salida - total_entrada\n",
    "comision = total_salida*0.0002 + total_entrada*0.0002 \n",
    "ganancia_neta = abs(ganancia-comision)\n",
    "print(\"La ganancia es aproximandamente:\", round(ganancia_neta,2))"
   ]
  },
  {
   "cell_type": "markdown",
   "id": "5002a16d",
   "metadata": {},
   "source": [
    "### Cancelar Ordenes Abiertas"
   ]
  },
  {
   "cell_type": "code",
   "execution_count": 293,
   "id": "20e7613e",
   "metadata": {},
   "outputs": [
    {
     "data": {
      "text/plain": [
       "{'code': 200, 'msg': 'The operation of cancel all open order is done.'}"
      ]
     },
     "execution_count": 293,
     "metadata": {},
     "output_type": "execute_result"
    }
   ],
   "source": [
    "client.futures_cancel_all_open_orders(symbol = \"target_status[\"symbol\"]\")"
   ]
  }
 ],
 "metadata": {
  "kernelspec": {
   "display_name": "Python 3 (ipykernel)",
   "language": "python",
   "name": "python3"
  },
  "language_info": {
   "codemirror_mode": {
    "name": "ipython",
    "version": 3
   },
   "file_extension": ".py",
   "mimetype": "text/x-python",
   "name": "python",
   "nbconvert_exporter": "python",
   "pygments_lexer": "ipython3",
   "version": "3.9.7"
  }
 },
 "nbformat": 4,
 "nbformat_minor": 5
}
