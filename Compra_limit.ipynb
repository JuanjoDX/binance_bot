{
 "cells": [
  {
   "cell_type": "markdown",
   "id": "294d5870",
   "metadata": {},
   "source": [
    "### Importar Librerias"
   ]
  },
  {
   "cell_type": "code",
   "execution_count": 74,
   "id": "d2731f29",
   "metadata": {},
   "outputs": [],
   "source": [
    "from binance import Client\n",
    "from datetime import datetime\n",
    "import time"
   ]
  },
  {
   "cell_type": "markdown",
   "id": "13efcbe7",
   "metadata": {},
   "source": [
    "### API KEY y Cliente"
   ]
  },
  {
   "cell_type": "code",
   "execution_count": 54,
   "id": "afca710e",
   "metadata": {},
   "outputs": [],
   "source": [
    "apikey = 'o4xp0nX8Nr3RsQIAQDBs7ZZivwpoLHPZsDQU48dmWX8heBKpSgPOS0M9NZwHHbEP'\n",
    "secret = 'OwjJSwLt0szX7qq62Xqd7evsc345eCLCTrYIVTdIND4HORYJ4DDz7lmGnDGCMiwq'\n",
    "client = Client(apikey, secret)"
   ]
  },
  {
   "cell_type": "markdown",
   "id": "3637379c",
   "metadata": {},
   "source": [
    "### Traer Balance USDT de la cuenta"
   ]
  },
  {
   "cell_type": "code",
   "execution_count": 56,
   "id": "d53f2799",
   "metadata": {},
   "outputs": [],
   "source": [
    "res = client.futures_account_balance()\n",
    "asset = \"USDT\"\n",
    "\n",
    "# Buscar el diccionario con el símbolo deseado\n",
    "target = None\n",
    "for position in res:\n",
    "    if position['asset'] == asset:\n",
    "        target = position\n",
    "        break"
   ]
  },
  {
   "cell_type": "markdown",
   "id": "55dc3e9a",
   "metadata": {},
   "source": [
    "### Orden Operación "
   ]
  },
  {
   "cell_type": "code",
   "execution_count": 72,
   "id": "ae862396",
   "metadata": {},
   "outputs": [],
   "source": [
    "moneda = \"1000SHIBUSDT\"\n",
    "lado = \"BUY\"\n",
    "palanca = 20\n",
    "precio_entrada = 0.011128\n",
    "total_usdt = float(target[\"balance\"])\n",
    "cantidad_monedas = round((total_usdt*palanca/precio_entrada)//1)"
   ]
  },
  {
   "cell_type": "markdown",
   "id": "5bf29f85",
   "metadata": {},
   "source": [
    "### Mandar Orden"
   ]
  },
  {
   "cell_type": "code",
   "execution_count": 73,
   "id": "b0332ade",
   "metadata": {},
   "outputs": [
    {
     "data": {
      "text/plain": [
       "{'orderId': 13169349654,\n",
       " 'symbol': '1000SHIBUSDT',\n",
       " 'status': 'NEW',\n",
       " 'clientOrderId': 'zOJdmBAh6u43i487kGVzID',\n",
       " 'price': '0.011128',\n",
       " 'avgPrice': '0.00',\n",
       " 'origQty': '280777',\n",
       " 'executedQty': '0',\n",
       " 'cumQty': '0',\n",
       " 'cumQuote': '0.000000',\n",
       " 'timeInForce': 'GTC',\n",
       " 'type': 'LIMIT',\n",
       " 'reduceOnly': False,\n",
       " 'closePosition': False,\n",
       " 'side': 'BUY',\n",
       " 'positionSide': 'BOTH',\n",
       " 'stopPrice': '0.000000',\n",
       " 'workingType': 'CONTRACT_PRICE',\n",
       " 'priceProtect': False,\n",
       " 'origType': 'LIMIT',\n",
       " 'updateTime': 1691809191899}"
      ]
     },
     "execution_count": 73,
     "metadata": {},
     "output_type": "execute_result"
    }
   ],
   "source": [
    "client.futures_change_leverage(symbol='1000SHIBUSDT', leverage=palanca)\n",
    "orden_compra = client.futures_create_order(symbol = moneda,\n",
    "                            side = lado,\n",
    "                            price = str(precio_entrada),\n",
    "                            quantity = cantidad_monedas,\n",
    "                            type = 'LIMIT',\n",
    "                            timeinforce = 'GTC')\n",
    "orden_compra"
   ]
  }
 ],
 "metadata": {
  "kernelspec": {
   "display_name": "Python 3 (ipykernel)",
   "language": "python",
   "name": "python3"
  },
  "language_info": {
   "codemirror_mode": {
    "name": "ipython",
    "version": 3
   },
   "file_extension": ".py",
   "mimetype": "text/x-python",
   "name": "python",
   "nbconvert_exporter": "python",
   "pygments_lexer": "ipython3",
   "version": "3.9.7"
  }
 },
 "nbformat": 4,
 "nbformat_minor": 5
}
