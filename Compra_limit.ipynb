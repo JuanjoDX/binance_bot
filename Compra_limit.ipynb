{
 "cells": [
  {
   "cell_type": "code",
   "execution_count": 35,
   "id": "46fc5613",
   "metadata": {},
   "outputs": [],
   "source": [
    "from binance import Client\n",
    "from datetime import datetime\n",
    "import time\n",
    "\n",
    "apikey = 'o4xp0nX8Nr3RsQIAQDBs7ZZivwpoLHPZsDQU48dmWX8heBKpSgPOS0M9NZwHHbEP'\n",
    "secret = 'OwjJSwLt0szX7qq62Xqd7evsc345eCLCTrYIVTdIND4HORYJ4DDz7lmGnDGCMiwq'"
   ]
  },
  {
   "cell_type": "code",
   "execution_count": 36,
   "id": "3c7cd8d4",
   "metadata": {},
   "outputs": [],
   "source": [
    "client = Client(apikey, secret)"
   ]
  },
  {
   "cell_type": "code",
   "execution_count": 37,
   "id": "64f38e15",
   "metadata": {},
   "outputs": [],
   "source": [
    "res = client.futures_account_balance()\n",
    "asset = \"USDT\"\n",
    "\n",
    "# Buscar el diccionario con el símbolo deseado\n",
    "target = None\n",
    "for position in res:\n",
    "    if position['asset'] == asset:\n",
    "        target = position\n",
    "        break"
   ]
  },
  {
   "cell_type": "code",
   "execution_count": 44,
   "id": "4c0c9d2f",
   "metadata": {},
   "outputs": [],
   "source": [
    "moneda = \"1000SHIBUSDT\"\n",
    "lado = \"BUY\"\n",
    "palanca = 20\n",
    "precio_entrada = 0.01112\n",
    "total_usdt = float(target[\"balance\"])\n",
    "cantidad_monedas = round((total_usdt*palanca/precio_entrada)//1)"
   ]
  },
  {
   "cell_type": "code",
   "execution_count": 45,
   "id": "f3986d1c",
   "metadata": {},
   "outputs": [
    {
     "data": {
      "text/plain": [
       "{'orderId': 13167541984,\n",
       " 'symbol': '1000SHIBUSDT',\n",
       " 'status': 'NEW',\n",
       " 'clientOrderId': 'Kjq1KBYXwJV9gu45OVXioq',\n",
       " 'price': '0.011120',\n",
       " 'avgPrice': '0.00',\n",
       " 'origQty': '220808',\n",
       " 'executedQty': '0',\n",
       " 'cumQty': '0',\n",
       " 'cumQuote': '0.000000',\n",
       " 'timeInForce': 'GTC',\n",
       " 'type': 'LIMIT',\n",
       " 'reduceOnly': False,\n",
       " 'closePosition': False,\n",
       " 'side': 'BUY',\n",
       " 'positionSide': 'BOTH',\n",
       " 'stopPrice': '0.000000',\n",
       " 'workingType': 'CONTRACT_PRICE',\n",
       " 'priceProtect': False,\n",
       " 'origType': 'LIMIT',\n",
       " 'updateTime': 1691806615936}"
      ]
     },
     "execution_count": 45,
     "metadata": {},
     "output_type": "execute_result"
    }
   ],
   "source": [
    "client.futures_change_leverage(symbol='1000SHIBUSDT', leverage=palanca)\n",
    "orden_compra = client.futures_create_order(symbol = moneda,\n",
    "                            side = lado,\n",
    "                            price = str(precio_entrada),\n",
    "                            quantity = cantidad_monedas,\n",
    "                            type = 'LIMIT',\n",
    "                            timeinforce = 'GTC')\n",
    "\n",
    "orden_compra"
   ]
  },
  {
   "cell_type": "code",
   "execution_count": 26,
   "id": "7a30e235",
   "metadata": {},
   "outputs": [
    {
     "name": "stdout",
     "output_type": "stream",
     "text": [
      "11/08/2023 17:45:21 1000SHIBUSDT Precio Actual: 0.010462\n",
      "11/08/2023 17:45:31 1000SHIBUSDT Precio Actual: 0.010460\n",
      "11/08/2023 17:45:42 1000SHIBUSDT Precio Actual: 0.010457\n",
      "11/08/2023 17:45:53 1000SHIBUSDT Precio Actual: 0.010459\n",
      "11/08/2023 17:46:02 1000SHIBUSDT Precio Actual: 0.010456\n",
      "11/08/2023 17:46:12 1000SHIBUSDT Precio Actual: 0.010455\n",
      "11/08/2023 17:46:22 1000SHIBUSDT Precio Actual: 0.010460\n",
      "11/08/2023 17:46:33 1000SHIBUSDT Precio Actual: 0.010458\n",
      "11/08/2023 17:46:43 1000SHIBUSDT Precio Actual: 0.010465\n",
      "11/08/2023 17:46:53 1000SHIBUSDT Precio Actual: 0.010465\n",
      "11/08/2023 17:47:03 1000SHIBUSDT Precio Actual: 0.010472\n",
      "11/08/2023 17:47:14 1000SHIBUSDT Precio Actual: 0.010475\n",
      "11/08/2023 17:47:24 1000SHIBUSDT Precio Actual: 0.010474\n",
      "11/08/2023 17:47:33 1000SHIBUSDT Precio Actual: 0.010477\n",
      "11/08/2023 17:47:43 1000SHIBUSDT Precio Actual: 0.010474\n",
      "11/08/2023 17:47:55 1000SHIBUSDT Precio Actual: 0.010482\n",
      "11/08/2023 17:48:05 1000SHIBUSDT Precio Actual: 0.010483\n",
      "11/08/2023 17:48:16 1000SHIBUSDT Precio Actual: 0.010488\n",
      "11/08/2023 17:48:25 1000SHIBUSDT Precio Actual: 0.010488\n",
      "11/08/2023 17:48:36 1000SHIBUSDT Precio Actual: 0.010487\n",
      "11/08/2023 17:48:47 1000SHIBUSDT Precio Actual: 0.010482\n",
      "11/08/2023 17:48:56 1000SHIBUSDT Precio Actual: 0.010484\n",
      "11/08/2023 17:49:06 1000SHIBUSDT Precio Actual: 0.010482\n",
      "11/08/2023 17:49:17 1000SHIBUSDT Precio Actual: 0.010471\n",
      "11/08/2023 17:49:26 1000SHIBUSDT Precio Actual: 0.010468\n",
      "11/08/2023 17:49:37 1000SHIBUSDT Precio Actual: 0.010468\n",
      "11/08/2023 17:49:46 1000SHIBUSDT Precio Actual: 0.010468\n",
      "11/08/2023 17:49:57 1000SHIBUSDT Precio Actual: 0.010472\n",
      "11/08/2023 17:50:08 1000SHIBUSDT Precio Actual: 0.010471\n",
      "11/08/2023 17:50:17 1000SHIBUSDT Precio Actual: 0.010470\n",
      "11/08/2023 17:50:29 1000SHIBUSDT Precio Actual: 0.010471\n",
      "11/08/2023 17:50:37 1000SHIBUSDT Precio Actual: 0.010468\n",
      "11/08/2023 17:50:48 1000SHIBUSDT Precio Actual: 0.010467\n",
      "11/08/2023 17:51:00 1000SHIBUSDT Precio Actual: 0.010461\n",
      "11/08/2023 17:51:09 1000SHIBUSDT Precio Actual: 0.010465\n",
      "11/08/2023 17:51:18 1000SHIBUSDT Precio Actual: 0.010465\n",
      "11/08/2023 17:51:29 1000SHIBUSDT Precio Actual: 0.010476\n",
      "11/08/2023 17:51:40 1000SHIBUSDT Precio Actual: 0.010478\n",
      "11/08/2023 17:51:50 1000SHIBUSDT Precio Actual: 0.010479\n",
      "11/08/2023 17:52:00 1000SHIBUSDT Precio Actual: 0.010484\n"
     ]
    },
    {
     "ename": "KeyboardInterrupt",
     "evalue": "",
     "output_type": "error",
     "traceback": [
      "\u001b[1;31m---------------------------------------------------------------------------\u001b[0m",
      "\u001b[1;31mKeyboardInterrupt\u001b[0m                         Traceback (most recent call last)",
      "\u001b[1;32m~\\AppData\\Local\\Temp/ipykernel_2936/3054787098.py\u001b[0m in \u001b[0;36m<module>\u001b[1;34m\u001b[0m\n\u001b[0;32m      5\u001b[0m     \u001b[0msimbolo\u001b[0m \u001b[1;33m=\u001b[0m \u001b[0mres\u001b[0m\u001b[1;33m[\u001b[0m\u001b[1;34m\"symbol\"\u001b[0m\u001b[1;33m]\u001b[0m\u001b[1;33m\u001b[0m\u001b[1;33m\u001b[0m\u001b[0m\n\u001b[0;32m      6\u001b[0m     \u001b[0mprint\u001b[0m\u001b[1;33m(\u001b[0m\u001b[0mfecha\u001b[0m\u001b[1;33m,\u001b[0m \u001b[0msimbolo\u001b[0m\u001b[1;33m,\u001b[0m\u001b[1;34m\"Precio Actual:\"\u001b[0m\u001b[1;33m,\u001b[0m \u001b[0mprecio\u001b[0m\u001b[1;33m)\u001b[0m\u001b[1;33m\u001b[0m\u001b[1;33m\u001b[0m\u001b[0m\n\u001b[1;32m----> 7\u001b[1;33m     \u001b[0mtime\u001b[0m\u001b[1;33m.\u001b[0m\u001b[0msleep\u001b[0m\u001b[1;33m(\u001b[0m\u001b[1;36m10\u001b[0m\u001b[1;33m)\u001b[0m\u001b[1;33m\u001b[0m\u001b[1;33m\u001b[0m\u001b[0m\n\u001b[0m",
      "\u001b[1;31mKeyboardInterrupt\u001b[0m: "
     ]
    }
   ],
   "source": [
    "while True:\n",
    "    res = client.futures_symbol_ticker(symbol = \"1000shibusdt\")\n",
    "    fecha = datetime.fromtimestamp(res[\"time\"]/1000).strftime(\"%d/%m/%Y %H:%M:%S\")\n",
    "    precio = res[\"price\"]\n",
    "    simbolo = res[\"symbol\"]\n",
    "    print(fecha, simbolo,\"Precio Actual:\", precio)\n",
    "    time.sleep(10)"
   ]
  }
 ],
 "metadata": {
  "kernelspec": {
   "display_name": "Python 3 (ipykernel)",
   "language": "python",
   "name": "python3"
  },
  "language_info": {
   "codemirror_mode": {
    "name": "ipython",
    "version": 3
   },
   "file_extension": ".py",
   "mimetype": "text/x-python",
   "name": "python",
   "nbconvert_exporter": "python",
   "pygments_lexer": "ipython3",
   "version": "3.9.7"
  }
 },
 "nbformat": 4,
 "nbformat_minor": 5
}
