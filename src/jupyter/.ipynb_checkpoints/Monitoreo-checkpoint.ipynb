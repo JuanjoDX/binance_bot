{
 "cells": [
  {
   "cell_type": "code",
   "execution_count": 1,
   "id": "e0f6f54f",
   "metadata": {},
   "outputs": [],
   "source": [
    "from binance import Client\n",
    "from datetime import datetime\n",
    "import time\n",
    "\n",
    "apikey = 'o4xp0nX8Nr3RsQIAQDBs7ZZivwpoLHPZsDQU48dmWX8heBKpSgPOS0M9NZwHHbEP'\n",
    "secret = 'OwjJSwLt0szX7qq62Xqd7evsc345eCLCTrYIVTdIND4HORYJ4DDz7lmGnDGCMiwq'\n",
    "client = Client(apikey, secret)"
   ]
  },
  {
   "cell_type": "code",
   "execution_count": 2,
   "id": "6dae6577",
   "metadata": {},
   "outputs": [],
   "source": [
    "res = client.futures_get_all_orders()\n",
    "status = \"FILLED\"\n",
    "\n",
    "# Buscar el diccionario con el símbolo deseado\n",
    "target_status = None\n",
    "for position in res[::-1]:\n",
    "    if position['status'] == status:\n",
    "        target_status = position\n",
    "        break"
   ]
  },
  {
   "cell_type": "code",
   "execution_count": 3,
   "id": "02e616c6",
   "metadata": {},
   "outputs": [
    {
     "name": "stdout",
     "output_type": "stream",
     "text": [
      "{'symbol': '1000SHIBUSDT', 'positionAmt': '1123108', 'entryPrice': '0.0106195', 'markPrice': '0.01047800', 'unRealizedProfit': '-158.91978200', 'liquidationPrice': '0.00968465', 'leverage': '20', 'maxNotionalValue': '600000', 'marginType': 'cross', 'isolatedMargin': '0.00000000', 'isAutoAddMargin': 'false', 'positionSide': 'BOTH', 'notional': '11767.92562400', 'isolatedWallet': '0', 'updateTime': 1691953040992}\n",
      "{'symbol': '1000SHIBUSDT', 'positionAmt': '1123108', 'entryPrice': '0.0106195', 'markPrice': '0.01047800', 'unRealizedProfit': '-158.91978200', 'liquidationPrice': '0.00968465', 'leverage': '20', 'maxNotionalValue': '600000', 'marginType': 'cross', 'isolatedMargin': '0.00000000', 'isAutoAddMargin': 'false', 'positionSide': 'BOTH', 'notional': '11767.92562400', 'isolatedWallet': '0', 'updateTime': 1691953040992}\n",
      "{'symbol': '1000SHIBUSDT', 'positionAmt': '1123108', 'entryPrice': '0.0106195', 'markPrice': '0.01047800', 'unRealizedProfit': '-158.91978200', 'liquidationPrice': '0.00968465', 'leverage': '20', 'maxNotionalValue': '600000', 'marginType': 'cross', 'isolatedMargin': '0.00000000', 'isAutoAddMargin': 'false', 'positionSide': 'BOTH', 'notional': '11767.92562400', 'isolatedWallet': '0', 'updateTime': 1691953040992}\n",
      "{'symbol': '1000SHIBUSDT', 'positionAmt': '1123108', 'entryPrice': '0.0106195', 'markPrice': '0.01047800', 'unRealizedProfit': '-158.91978200', 'liquidationPrice': '0.00968465', 'leverage': '20', 'maxNotionalValue': '600000', 'marginType': 'cross', 'isolatedMargin': '0.00000000', 'isAutoAddMargin': 'false', 'positionSide': 'BOTH', 'notional': '11767.92562400', 'isolatedWallet': '0', 'updateTime': 1691953040992}\n"
     ]
    },
    {
     "ename": "NameError",
     "evalue": "name 'BinanceAPIException' is not defined",
     "output_type": "error",
     "traceback": [
      "\u001b[1;31m---------------------------------------------------------------------------\u001b[0m",
      "\u001b[1;31mBinanceAPIException\u001b[0m                       Traceback (most recent call last)",
      "\u001b[1;32m~\\AppData\\Local\\Temp/ipykernel_19000/2960817484.py\u001b[0m in \u001b[0;36m<module>\u001b[1;34m\u001b[0m\n\u001b[0;32m      2\u001b[0m     \u001b[1;32mtry\u001b[0m\u001b[1;33m:\u001b[0m\u001b[1;33m\u001b[0m\u001b[1;33m\u001b[0m\u001b[0m\n\u001b[1;32m----> 3\u001b[1;33m         \u001b[0mres\u001b[0m \u001b[1;33m=\u001b[0m \u001b[0mclient\u001b[0m\u001b[1;33m.\u001b[0m\u001b[0mfutures_position_information\u001b[0m\u001b[1;33m(\u001b[0m\u001b[1;33m)\u001b[0m\u001b[1;33m\u001b[0m\u001b[1;33m\u001b[0m\u001b[0m\n\u001b[0m\u001b[0;32m      4\u001b[0m \u001b[1;33m\u001b[0m\u001b[0m\n",
      "\u001b[1;32m~\\anaconda3\\lib\\site-packages\\binance\\client.py\u001b[0m in \u001b[0;36mfutures_position_information\u001b[1;34m(self, **params)\u001b[0m\n\u001b[0;32m   6326\u001b[0m         \"\"\"\n\u001b[1;32m-> 6327\u001b[1;33m         \u001b[1;32mreturn\u001b[0m \u001b[0mself\u001b[0m\u001b[1;33m.\u001b[0m\u001b[0m_request_futures_api\u001b[0m\u001b[1;33m(\u001b[0m\u001b[1;34m'get'\u001b[0m\u001b[1;33m,\u001b[0m \u001b[1;34m'positionRisk'\u001b[0m\u001b[1;33m,\u001b[0m \u001b[1;32mTrue\u001b[0m\u001b[1;33m,\u001b[0m \u001b[0mdata\u001b[0m\u001b[1;33m=\u001b[0m\u001b[0mparams\u001b[0m\u001b[1;33m)\u001b[0m\u001b[1;33m\u001b[0m\u001b[1;33m\u001b[0m\u001b[0m\n\u001b[0m\u001b[0;32m   6328\u001b[0m \u001b[1;33m\u001b[0m\u001b[0m\n",
      "\u001b[1;32m~\\anaconda3\\lib\\site-packages\\binance\\client.py\u001b[0m in \u001b[0;36m_request_futures_api\u001b[1;34m(self, method, path, signed, **kwargs)\u001b[0m\n\u001b[0;32m    381\u001b[0m \u001b[1;33m\u001b[0m\u001b[0m\n\u001b[1;32m--> 382\u001b[1;33m         \u001b[1;32mreturn\u001b[0m \u001b[0mself\u001b[0m\u001b[1;33m.\u001b[0m\u001b[0m_request\u001b[0m\u001b[1;33m(\u001b[0m\u001b[0mmethod\u001b[0m\u001b[1;33m,\u001b[0m \u001b[0muri\u001b[0m\u001b[1;33m,\u001b[0m \u001b[0msigned\u001b[0m\u001b[1;33m,\u001b[0m \u001b[1;32mTrue\u001b[0m\u001b[1;33m,\u001b[0m \u001b[1;33m**\u001b[0m\u001b[0mkwargs\u001b[0m\u001b[1;33m)\u001b[0m\u001b[1;33m\u001b[0m\u001b[1;33m\u001b[0m\u001b[0m\n\u001b[0m\u001b[0;32m    383\u001b[0m \u001b[1;33m\u001b[0m\u001b[0m\n",
      "\u001b[1;32m~\\anaconda3\\lib\\site-packages\\binance\\client.py\u001b[0m in \u001b[0;36m_request\u001b[1;34m(self, method, uri, signed, force_params, **kwargs)\u001b[0m\n\u001b[0;32m    357\u001b[0m         \u001b[0mself\u001b[0m\u001b[1;33m.\u001b[0m\u001b[0mresponse\u001b[0m \u001b[1;33m=\u001b[0m \u001b[0mgetattr\u001b[0m\u001b[1;33m(\u001b[0m\u001b[0mself\u001b[0m\u001b[1;33m.\u001b[0m\u001b[0msession\u001b[0m\u001b[1;33m,\u001b[0m \u001b[0mmethod\u001b[0m\u001b[1;33m)\u001b[0m\u001b[1;33m(\u001b[0m\u001b[0muri\u001b[0m\u001b[1;33m,\u001b[0m \u001b[1;33m**\u001b[0m\u001b[0mkwargs\u001b[0m\u001b[1;33m)\u001b[0m\u001b[1;33m\u001b[0m\u001b[1;33m\u001b[0m\u001b[0m\n\u001b[1;32m--> 358\u001b[1;33m         \u001b[1;32mreturn\u001b[0m \u001b[0mself\u001b[0m\u001b[1;33m.\u001b[0m\u001b[0m_handle_response\u001b[0m\u001b[1;33m(\u001b[0m\u001b[0mself\u001b[0m\u001b[1;33m.\u001b[0m\u001b[0mresponse\u001b[0m\u001b[1;33m)\u001b[0m\u001b[1;33m\u001b[0m\u001b[1;33m\u001b[0m\u001b[0m\n\u001b[0m\u001b[0;32m    359\u001b[0m \u001b[1;33m\u001b[0m\u001b[0m\n",
      "\u001b[1;32m~\\anaconda3\\lib\\site-packages\\binance\\client.py\u001b[0m in \u001b[0;36m_handle_response\u001b[1;34m(response)\u001b[0m\n\u001b[0;32m    366\u001b[0m         \u001b[1;32mif\u001b[0m \u001b[1;32mnot\u001b[0m \u001b[1;33m(\u001b[0m\u001b[1;36m200\u001b[0m \u001b[1;33m<=\u001b[0m \u001b[0mresponse\u001b[0m\u001b[1;33m.\u001b[0m\u001b[0mstatus_code\u001b[0m \u001b[1;33m<\u001b[0m \u001b[1;36m300\u001b[0m\u001b[1;33m)\u001b[0m\u001b[1;33m:\u001b[0m\u001b[1;33m\u001b[0m\u001b[1;33m\u001b[0m\u001b[0m\n\u001b[1;32m--> 367\u001b[1;33m             \u001b[1;32mraise\u001b[0m \u001b[0mBinanceAPIException\u001b[0m\u001b[1;33m(\u001b[0m\u001b[0mresponse\u001b[0m\u001b[1;33m,\u001b[0m \u001b[0mresponse\u001b[0m\u001b[1;33m.\u001b[0m\u001b[0mstatus_code\u001b[0m\u001b[1;33m,\u001b[0m \u001b[0mresponse\u001b[0m\u001b[1;33m.\u001b[0m\u001b[0mtext\u001b[0m\u001b[1;33m)\u001b[0m\u001b[1;33m\u001b[0m\u001b[1;33m\u001b[0m\u001b[0m\n\u001b[0m\u001b[0;32m    368\u001b[0m         \u001b[1;32mtry\u001b[0m\u001b[1;33m:\u001b[0m\u001b[1;33m\u001b[0m\u001b[1;33m\u001b[0m\u001b[0m\n",
      "\u001b[1;31mBinanceAPIException\u001b[0m: APIError(code=-5000): GET /fapi/v1/positionRisk is retired, please use GET /fapi/v2/positionRisk",
      "\nDuring handling of the above exception, another exception occurred:\n",
      "\u001b[1;31mNameError\u001b[0m                                 Traceback (most recent call last)",
      "\u001b[1;32m~\\AppData\\Local\\Temp/ipykernel_19000/2960817484.py\u001b[0m in \u001b[0;36m<module>\u001b[1;34m\u001b[0m\n\u001b[0;32m      3\u001b[0m         \u001b[0mres\u001b[0m \u001b[1;33m=\u001b[0m \u001b[0mclient\u001b[0m\u001b[1;33m.\u001b[0m\u001b[0mfutures_position_information\u001b[0m\u001b[1;33m(\u001b[0m\u001b[1;33m)\u001b[0m\u001b[1;33m\u001b[0m\u001b[1;33m\u001b[0m\u001b[0m\n\u001b[0;32m      4\u001b[0m \u001b[1;33m\u001b[0m\u001b[0m\n\u001b[1;32m----> 5\u001b[1;33m     \u001b[1;32mexcept\u001b[0m \u001b[0mBinanceAPIException\u001b[0m \u001b[1;32mas\u001b[0m \u001b[0me\u001b[0m\u001b[1;33m:\u001b[0m\u001b[1;33m\u001b[0m\u001b[1;33m\u001b[0m\u001b[0m\n\u001b[0m\u001b[0;32m      6\u001b[0m         \u001b[0mprint\u001b[0m\u001b[1;33m(\u001b[0m\u001b[1;34m\"Error:\"\u001b[0m\u001b[1;33m,\u001b[0m \u001b[0me\u001b[0m\u001b[1;33m)\u001b[0m\u001b[1;33m\u001b[0m\u001b[1;33m\u001b[0m\u001b[0m\n\u001b[0;32m      7\u001b[0m         \u001b[1;31m# Espera 5 segundos antes de intentar nuevamente\u001b[0m\u001b[1;33m\u001b[0m\u001b[1;33m\u001b[0m\u001b[0m\n",
      "\u001b[1;31mNameError\u001b[0m: name 'BinanceAPIException' is not defined"
     ]
    }
   ],
   "source": [
    "while True:\n",
    "    try:\n",
    "        res = client.futures_position_information()\n",
    "\n",
    "    except BinanceAPIException as e:\n",
    "        print(\"Error:\", e)\n",
    "        # Espera 5 segundos antes de intentar nuevamente\n",
    "        time.sleep(5)\n",
    "        \n",
    "      \n",
    "    target_coin = {'symbol' : 'abc'}\n",
    "    for position in res[::-1]:\n",
    "        if float(position['positionAmt']) != 0:\n",
    "            target_coin = position\n",
    "            print(target_coin)\n",
    "            break"
   ]
  },
  {
   "cell_type": "code",
   "execution_count": 4,
   "id": "f3a19d8a",
   "metadata": {},
   "outputs": [],
   "source": [
    "res2 = client.futures_get_all_orders()\n",
    "status = \"NEW\"\n",
    "\n",
    "# Buscar el diccionario con el símbolo deseado\n",
    "target_status2 = None\n",
    "for position in res2[::-1]:\n",
    "    if position['status'] == status:\n",
    "        target_status2 = position\n",
    "        break"
   ]
  },
  {
   "cell_type": "code",
   "execution_count": 5,
   "id": "73a2ad09",
   "metadata": {},
   "outputs": [
    {
     "data": {
      "text/plain": [
       "{'orderId': 13226841728,\n",
       " 'symbol': '1000SHIBUSDT',\n",
       " 'status': 'NEW',\n",
       " 'clientOrderId': 'SGDkMOVkbIi75A27mgBn9G',\n",
       " 'price': '0.010694',\n",
       " 'avgPrice': '0.000000',\n",
       " 'origQty': '1123108',\n",
       " 'executedQty': '0',\n",
       " 'cumQuote': '0',\n",
       " 'timeInForce': 'GTC',\n",
       " 'type': 'LIMIT',\n",
       " 'reduceOnly': True,\n",
       " 'closePosition': False,\n",
       " 'side': 'SELL',\n",
       " 'positionSide': 'BOTH',\n",
       " 'stopPrice': '0',\n",
       " 'workingType': 'CONTRACT_PRICE',\n",
       " 'priceProtect': False,\n",
       " 'origType': 'LIMIT',\n",
       " 'time': 1691953237595,\n",
       " 'updateTime': 1691953237595}"
      ]
     },
     "execution_count": 5,
     "metadata": {},
     "output_type": "execute_result"
    }
   ],
   "source": [
    "target_status2"
   ]
  },
  {
   "cell_type": "code",
   "execution_count": 6,
   "id": "129ea528",
   "metadata": {},
   "outputs": [],
   "source": [
    "aux = None\n",
    "if target_status[\"side\"] == \"SELL\":\n",
    "    aux = \"SHORT\"\n",
    "else:\n",
    "    aux = \"LONG\""
   ]
  },
  {
   "cell_type": "code",
   "execution_count": 7,
   "id": "a79c1ed0",
   "metadata": {},
   "outputs": [],
   "source": [
    "blue_background = \"\\033[44m\"\n",
    "green_background = \"\\033[42m\"\n",
    "red_background = \"\\033[41m\"\n",
    "cyan_background = \"\\033[46m\"\n",
    "reset_style = \"\\033[0m\""
   ]
  },
  {
   "cell_type": "code",
   "execution_count": 11,
   "id": "07c89138",
   "metadata": {},
   "outputs": [
    {
     "ename": "TypeError",
     "evalue": "list indices must be integers or slices, not str",
     "output_type": "error",
     "traceback": [
      "\u001b[1;31m---------------------------------------------------------------------------\u001b[0m",
      "\u001b[1;31mTypeError\u001b[0m                                 Traceback (most recent call last)",
      "\u001b[1;32m~\\AppData\\Local\\Temp/ipykernel_10768/438277798.py\u001b[0m in \u001b[0;36m<module>\u001b[1;34m\u001b[0m\n\u001b[0;32m      1\u001b[0m \u001b[1;32mwhile\u001b[0m \u001b[1;32mTrue\u001b[0m\u001b[1;33m:\u001b[0m\u001b[1;33m\u001b[0m\u001b[1;33m\u001b[0m\u001b[0m\n\u001b[0;32m      2\u001b[0m \u001b[1;33m\u001b[0m\u001b[0m\n\u001b[1;32m----> 3\u001b[1;33m     \u001b[1;32mif\u001b[0m \u001b[0mtarget_coin\u001b[0m\u001b[1;33m[\u001b[0m\u001b[1;34m\"symbol\"\u001b[0m\u001b[1;33m]\u001b[0m \u001b[1;33m==\u001b[0m \u001b[0mtarget_status\u001b[0m\u001b[1;33m[\u001b[0m\u001b[1;34m\"symbol\"\u001b[0m\u001b[1;33m]\u001b[0m\u001b[1;33m:\u001b[0m\u001b[1;33m\u001b[0m\u001b[1;33m\u001b[0m\u001b[0m\n\u001b[0m\u001b[0;32m      4\u001b[0m         \u001b[0mprint\u001b[0m\u001b[1;33m(\u001b[0m\u001b[1;34m\"Moneda:\"\u001b[0m\u001b[1;33m,\u001b[0m \u001b[0mtarget_status\u001b[0m\u001b[1;33m[\u001b[0m\u001b[1;34m\"symbol\"\u001b[0m\u001b[1;33m]\u001b[0m\u001b[1;33m)\u001b[0m\u001b[1;33m\u001b[0m\u001b[1;33m\u001b[0m\u001b[0m\n\u001b[0;32m      5\u001b[0m         \u001b[0mprint\u001b[0m\u001b[1;33m(\u001b[0m\u001b[1;34m\"Tipo:\"\u001b[0m \u001b[1;33m,\u001b[0m \u001b[0maux\u001b[0m\u001b[1;33m)\u001b[0m\u001b[1;33m\u001b[0m\u001b[1;33m\u001b[0m\u001b[0m\n",
      "\u001b[1;31mTypeError\u001b[0m: list indices must be integers or slices, not str"
     ]
    }
   ],
   "source": [
    "while True:\n",
    "    \n",
    "    if target_coin[\"symbol\"] == target_status[\"symbol\"]:\n",
    "        print(\"Moneda:\", target_status[\"symbol\"])\n",
    "        print(\"Tipo:\" , aux)\n",
    "\n",
    "        print(\"Precio Entrada:\" , f\"{blue_background}{target_status['avgPrice']}{reset_style}\")\n",
    "\n",
    "        res = client.futures_symbol_ticker(symbol = \"1000shibusdt\")\n",
    "        fecha = datetime.fromtimestamp(res[\"time\"]/1000).strftime(\"%d/%m/%Y %H:%M:%S\")\n",
    "        precio = res[\"price\"]\n",
    "        simbolo = res[\"symbol\"]\n",
    "\n",
    "        if precio < target_status['avgPrice']:\n",
    "            print(\"Precio Actual: \", f\"{red_background}{precio}{reset_style}\")\n",
    "        else:\n",
    "            print(\"Precio Actual: \", f\"{green_background}{precio}{reset_style}\")\n",
    "        \n",
    "        print(\"Take Profit:   \" ,f\"{cyan_background}{target_status2['price']}{reset_style}\")\n",
    "        print(fecha)\n",
    "        print(\"__________________________\")\n",
    "        time.sleep(30)"
   ]
  }
 ],
 "metadata": {
  "kernelspec": {
   "display_name": "Python 3 (ipykernel)",
   "language": "python",
   "name": "python3"
  },
  "language_info": {
   "codemirror_mode": {
    "name": "ipython",
    "version": 3
   },
   "file_extension": ".py",
   "mimetype": "text/x-python",
   "name": "python",
   "nbconvert_exporter": "python",
   "pygments_lexer": "ipython3",
   "version": "3.9.7"
  }
 },
 "nbformat": 4,
 "nbformat_minor": 5
}
