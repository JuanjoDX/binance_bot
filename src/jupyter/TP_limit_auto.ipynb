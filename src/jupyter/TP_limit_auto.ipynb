{
 "cells": [
  {
   "cell_type": "markdown",
   "id": "a799410a",
   "metadata": {},
   "source": [
    "### Importar Librerias"
   ]
  },
  {
   "cell_type": "code",
   "execution_count": 1,
   "id": "48b19786",
   "metadata": {},
   "outputs": [],
   "source": [
    "from binance import Client"
   ]
  },
  {
   "cell_type": "markdown",
   "id": "81dae0c9",
   "metadata": {},
   "source": [
    "### API KEY y Cliente"
   ]
  },
  {
   "cell_type": "code",
   "execution_count": 2,
   "id": "3de5a834",
   "metadata": {},
   "outputs": [],
   "source": [
    "apikey = 'o4xp0nX8Nr3RsQIAQDBs7ZZivwpoLHPZsDQU48dmWX8heBKpSgPOS0M9NZwHHbEP'\n",
    "secret = 'OwjJSwLt0szX7qq62Xqd7evsc345eCLCTrYIVTdIND4HORYJ4DDz7lmGnDGCMiwq'\n",
    "client = Client(apikey, secret)"
   ]
  },
  {
   "cell_type": "markdown",
   "id": "bb45d794",
   "metadata": {},
   "source": [
    "### Traer Última Orden Completada"
   ]
  },
  {
   "cell_type": "code",
   "execution_count": null,
   "id": "d089057f",
   "metadata": {},
   "outputs": [],
   "source": [
    "res = client.futures_get_all_orders()\n",
    "status = \"FILLED\"\n",
    "\n",
    "# Buscar el diccionario con el símbolo deseado\n",
    "target_status = None\n",
    "for position in res[::-1]:\n",
    "    if position['status'] == status:\n",
    "        target_status = position\n",
    "        break"
   ]
  },
  {
   "cell_type": "markdown",
   "id": "cd0579a4",
   "metadata": {},
   "source": [
    "### Posición Actual"
   ]
  },
  {
   "cell_type": "code",
   "execution_count": null,
   "id": "7b39587e",
   "metadata": {},
   "outputs": [],
   "source": [
    "pos_act = client.futures_position_information(symbol = target_status[\"symbol\"])[0]"
   ]
  },
  {
   "cell_type": "markdown",
   "id": "d48b9775",
   "metadata": {},
   "source": [
    "### TP Limit Según lado"
   ]
  },
  {
   "cell_type": "code",
   "execution_count": null,
   "id": "d0d79fe2",
   "metadata": {},
   "outputs": [],
   "source": [
    "roe = 18"
   ]
  },
  {
   "cell_type": "code",
   "execution_count": null,
   "id": "05f34cf5",
   "metadata": {},
   "outputs": [],
   "source": [
    "aux = None\n",
    "decimas = len(target_status[\"price\"].split(\".\")[1])\n",
    "palanca = int(pos_act[\"leverage\"])\n",
    "if target_status[\"side\"] == \"SELL\":\n",
    "    aux = \"BUY\"\n",
    "    precio_salida = str(round(float(pos_act[\"entryPrice\"])*(1-(roe/(100*palanca))),decimas))\n",
    "else:\n",
    "    aux = \"SELL\"\n",
    "    precio_salida = str(round(float(pos_act[\"entryPrice\"])*(1+(roe/(100*palanca))),decimas))"
   ]
  },
  {
   "cell_type": "markdown",
   "id": "f206de53",
   "metadata": {},
   "source": [
    "### Crear Orden TP"
   ]
  },
  {
   "cell_type": "code",
   "execution_count": null,
   "id": "4cad50cd",
   "metadata": {},
   "outputs": [],
   "source": [
    "orden_salida = client.futures_create_order(symbol = target_status[\"symbol\"],\n",
    "                            side = aux,\n",
    "                            price = precio_salida,\n",
    "                            quantity = abs(int(pos_act[\"positionAmt\"])),\n",
    "                            type = 'LIMIT',\n",
    "                            timeinforce = 'GTC',\n",
    "                            reduceOnly = True)"
   ]
  },
  {
   "cell_type": "markdown",
   "id": "6301bd2d",
   "metadata": {},
   "source": [
    "### Imprimir Ganancia"
   ]
  },
  {
   "cell_type": "code",
   "execution_count": null,
   "id": "91207f64",
   "metadata": {},
   "outputs": [],
   "source": [
    "total_salida = float(orden_salida[\"price\"])*float(orden_salida[\"origQty\"])\n",
    "total_entrada = abs(float(pos_act[\"entryPrice\"])*float(pos_act[\"positionAmt\"]))\n",
    "ganancia = total_salida - total_entrada\n",
    "comision = total_salida*0.0002 + total_entrada*0.0002 \n",
    "ganancia_neta = abs(ganancia-comision)\n",
    "print(\"La ganancia es aproximandamente:\", round(ganancia_neta,2))"
   ]
  },
  {
   "cell_type": "markdown",
   "id": "77aea6cc",
   "metadata": {},
   "source": [
    "### Cancelar Ordenes Abiertas"
   ]
  },
  {
   "cell_type": "code",
   "execution_count": null,
   "id": "df54431a",
   "metadata": {},
   "outputs": [],
   "source": [
    "client.futures_cancel_all_open_orders(symbol = target_status[\"symbol\"])"
   ]
  }
 ],
 "metadata": {
  "kernelspec": {
   "display_name": "Python 3 (ipykernel)",
   "language": "python",
   "name": "python3"
  },
  "language_info": {
   "codemirror_mode": {
    "name": "ipython",
    "version": 3
   },
   "file_extension": ".py",
   "mimetype": "text/x-python",
   "name": "python",
   "nbconvert_exporter": "python",
   "pygments_lexer": "ipython3",
   "version": "3.9.7"
  }
 },
 "nbformat": 4,
 "nbformat_minor": 5
}
